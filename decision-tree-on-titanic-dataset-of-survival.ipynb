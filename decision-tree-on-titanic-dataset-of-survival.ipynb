{
 "cells": [
  {
   "cell_type": "code",
   "execution_count": 1,
   "id": "a5911822",
   "metadata": {
    "execution": {
     "iopub.execute_input": "2022-01-17T09:05:46.847536Z",
     "iopub.status.busy": "2022-01-17T09:05:46.845882Z",
     "iopub.status.idle": "2022-01-17T09:05:46.854919Z",
     "shell.execute_reply": "2022-01-17T09:05:46.855466Z"
    },
    "id": "_j4gnv6Iwd1u",
    "papermill": {
     "duration": 0.031914,
     "end_time": "2022-01-17T09:05:46.855775",
     "exception": false,
     "start_time": "2022-01-17T09:05:46.823861",
     "status": "completed"
    },
    "tags": []
   },
   "outputs": [],
   "source": [
    "import pandas as pd"
   ]
  },
  {
   "cell_type": "code",
   "execution_count": 2,
   "id": "c91583ce",
   "metadata": {
    "execution": {
     "iopub.execute_input": "2022-01-17T09:05:46.896586Z",
     "iopub.status.busy": "2022-01-17T09:05:46.895881Z",
     "iopub.status.idle": "2022-01-17T09:05:46.914439Z",
     "shell.execute_reply": "2022-01-17T09:05:46.914927Z"
    },
    "id": "SPLnCiCnwPfX",
    "papermill": {
     "duration": 0.041248,
     "end_time": "2022-01-17T09:05:46.915126",
     "exception": false,
     "start_time": "2022-01-17T09:05:46.873878",
     "status": "completed"
    },
    "tags": []
   },
   "outputs": [],
   "source": [
    "titanic=pd.read_csv('../input/titanic-dataset/Titanic.csv')"
   ]
  },
  {
   "cell_type": "code",
   "execution_count": 3,
   "id": "f0ea25b2",
   "metadata": {
    "execution": {
     "iopub.execute_input": "2022-01-17T09:05:46.960360Z",
     "iopub.status.busy": "2022-01-17T09:05:46.959086Z",
     "iopub.status.idle": "2022-01-17T09:05:46.977336Z",
     "shell.execute_reply": "2022-01-17T09:05:46.977804Z"
    },
    "id": "phzMfpQSwhHp",
    "outputId": "7a1c8578-30d5-45d5-cd16-7367257dfd77",
    "papermill": {
     "duration": 0.044504,
     "end_time": "2022-01-17T09:05:46.977969",
     "exception": false,
     "start_time": "2022-01-17T09:05:46.933465",
     "status": "completed"
    },
    "tags": []
   },
   "outputs": [
    {
     "data": {
      "text/html": [
       "<div>\n",
       "<style scoped>\n",
       "    .dataframe tbody tr th:only-of-type {\n",
       "        vertical-align: middle;\n",
       "    }\n",
       "\n",
       "    .dataframe tbody tr th {\n",
       "        vertical-align: top;\n",
       "    }\n",
       "\n",
       "    .dataframe thead th {\n",
       "        text-align: right;\n",
       "    }\n",
       "</style>\n",
       "<table border=\"1\" class=\"dataframe\">\n",
       "  <thead>\n",
       "    <tr style=\"text-align: right;\">\n",
       "      <th></th>\n",
       "      <th>PassengerId</th>\n",
       "      <th>Survived</th>\n",
       "      <th>Pclass</th>\n",
       "      <th>Name</th>\n",
       "      <th>Sex</th>\n",
       "      <th>Age</th>\n",
       "      <th>SibSp</th>\n",
       "      <th>Parch</th>\n",
       "      <th>Ticket</th>\n",
       "      <th>Fare</th>\n",
       "      <th>Cabin</th>\n",
       "      <th>Embarked</th>\n",
       "    </tr>\n",
       "  </thead>\n",
       "  <tbody>\n",
       "    <tr>\n",
       "      <th>0</th>\n",
       "      <td>1</td>\n",
       "      <td>0</td>\n",
       "      <td>3</td>\n",
       "      <td>Braund, Mr. Owen Harris</td>\n",
       "      <td>male</td>\n",
       "      <td>22.0</td>\n",
       "      <td>1</td>\n",
       "      <td>0</td>\n",
       "      <td>A/5 21171</td>\n",
       "      <td>7.2500</td>\n",
       "      <td>NaN</td>\n",
       "      <td>S</td>\n",
       "    </tr>\n",
       "    <tr>\n",
       "      <th>1</th>\n",
       "      <td>2</td>\n",
       "      <td>1</td>\n",
       "      <td>1</td>\n",
       "      <td>Cumings, Mrs. John Bradley (Florence Briggs Th...</td>\n",
       "      <td>female</td>\n",
       "      <td>38.0</td>\n",
       "      <td>1</td>\n",
       "      <td>0</td>\n",
       "      <td>PC 17599</td>\n",
       "      <td>71.2833</td>\n",
       "      <td>C85</td>\n",
       "      <td>C</td>\n",
       "    </tr>\n",
       "    <tr>\n",
       "      <th>2</th>\n",
       "      <td>3</td>\n",
       "      <td>1</td>\n",
       "      <td>3</td>\n",
       "      <td>Heikkinen, Miss. Laina</td>\n",
       "      <td>female</td>\n",
       "      <td>26.0</td>\n",
       "      <td>0</td>\n",
       "      <td>0</td>\n",
       "      <td>STON/O2. 3101282</td>\n",
       "      <td>7.9250</td>\n",
       "      <td>NaN</td>\n",
       "      <td>S</td>\n",
       "    </tr>\n",
       "    <tr>\n",
       "      <th>3</th>\n",
       "      <td>4</td>\n",
       "      <td>1</td>\n",
       "      <td>1</td>\n",
       "      <td>Futrelle, Mrs. Jacques Heath (Lily May Peel)</td>\n",
       "      <td>female</td>\n",
       "      <td>35.0</td>\n",
       "      <td>1</td>\n",
       "      <td>0</td>\n",
       "      <td>113803</td>\n",
       "      <td>53.1000</td>\n",
       "      <td>C123</td>\n",
       "      <td>S</td>\n",
       "    </tr>\n",
       "    <tr>\n",
       "      <th>4</th>\n",
       "      <td>5</td>\n",
       "      <td>0</td>\n",
       "      <td>3</td>\n",
       "      <td>Allen, Mr. William Henry</td>\n",
       "      <td>male</td>\n",
       "      <td>35.0</td>\n",
       "      <td>0</td>\n",
       "      <td>0</td>\n",
       "      <td>373450</td>\n",
       "      <td>8.0500</td>\n",
       "      <td>NaN</td>\n",
       "      <td>S</td>\n",
       "    </tr>\n",
       "  </tbody>\n",
       "</table>\n",
       "</div>"
      ],
      "text/plain": [
       "   PassengerId  Survived  Pclass  \\\n",
       "0            1         0       3   \n",
       "1            2         1       1   \n",
       "2            3         1       3   \n",
       "3            4         1       1   \n",
       "4            5         0       3   \n",
       "\n",
       "                                                Name     Sex   Age  SibSp  \\\n",
       "0                            Braund, Mr. Owen Harris    male  22.0      1   \n",
       "1  Cumings, Mrs. John Bradley (Florence Briggs Th...  female  38.0      1   \n",
       "2                             Heikkinen, Miss. Laina  female  26.0      0   \n",
       "3       Futrelle, Mrs. Jacques Heath (Lily May Peel)  female  35.0      1   \n",
       "4                           Allen, Mr. William Henry    male  35.0      0   \n",
       "\n",
       "   Parch            Ticket     Fare Cabin Embarked  \n",
       "0      0         A/5 21171   7.2500   NaN        S  \n",
       "1      0          PC 17599  71.2833   C85        C  \n",
       "2      0  STON/O2. 3101282   7.9250   NaN        S  \n",
       "3      0            113803  53.1000  C123        S  \n",
       "4      0            373450   8.0500   NaN        S  "
      ]
     },
     "execution_count": 3,
     "metadata": {},
     "output_type": "execute_result"
    }
   ],
   "source": [
    "titanic.head()"
   ]
  },
  {
   "cell_type": "code",
   "execution_count": 4,
   "id": "64ba0dc2",
   "metadata": {
    "execution": {
     "iopub.execute_input": "2022-01-17T09:05:47.021308Z",
     "iopub.status.busy": "2022-01-17T09:05:47.020572Z",
     "iopub.status.idle": "2022-01-17T09:05:47.022758Z",
     "shell.execute_reply": "2022-01-17T09:05:47.023330Z"
    },
    "id": "T5YzDyw9wyRI",
    "papermill": {
     "duration": 0.028061,
     "end_time": "2022-01-17T09:05:47.023504",
     "exception": false,
     "start_time": "2022-01-17T09:05:46.995443",
     "status": "completed"
    },
    "tags": []
   },
   "outputs": [],
   "source": [
    "titanic['FamilySize'] = titanic['SibSp'] + titanic['Parch'] + 1"
   ]
  },
  {
   "cell_type": "code",
   "execution_count": 5,
   "id": "1b1baf43",
   "metadata": {
    "execution": {
     "iopub.execute_input": "2022-01-17T09:05:47.063022Z",
     "iopub.status.busy": "2022-01-17T09:05:47.062115Z",
     "iopub.status.idle": "2022-01-17T09:05:47.081016Z",
     "shell.execute_reply": "2022-01-17T09:05:47.081651Z"
    },
    "id": "Ox1p6z68w5j1",
    "outputId": "f833eb11-5a8e-47fa-b62d-c180724086a6",
    "papermill": {
     "duration": 0.040559,
     "end_time": "2022-01-17T09:05:47.081886",
     "exception": false,
     "start_time": "2022-01-17T09:05:47.041327",
     "status": "completed"
    },
    "tags": []
   },
   "outputs": [
    {
     "name": "stdout",
     "output_type": "stream",
     "text": [
      "<class 'pandas.core.frame.DataFrame'>\n",
      "RangeIndex: 156 entries, 0 to 155\n",
      "Data columns (total 13 columns):\n",
      " #   Column       Non-Null Count  Dtype  \n",
      "---  ------       --------------  -----  \n",
      " 0   PassengerId  156 non-null    int64  \n",
      " 1   Survived     156 non-null    int64  \n",
      " 2   Pclass       156 non-null    int64  \n",
      " 3   Name         156 non-null    object \n",
      " 4   Sex          156 non-null    object \n",
      " 5   Age          126 non-null    float64\n",
      " 6   SibSp        156 non-null    int64  \n",
      " 7   Parch        156 non-null    int64  \n",
      " 8   Ticket       156 non-null    object \n",
      " 9   Fare         156 non-null    float64\n",
      " 10  Cabin        31 non-null     object \n",
      " 11  Embarked     155 non-null    object \n",
      " 12  FamilySize   156 non-null    int64  \n",
      "dtypes: float64(2), int64(6), object(5)\n",
      "memory usage: 16.0+ KB\n"
     ]
    }
   ],
   "source": [
    "titanic.info()"
   ]
  },
  {
   "cell_type": "code",
   "execution_count": 6,
   "id": "a6be5a8b",
   "metadata": {
    "execution": {
     "iopub.execute_input": "2022-01-17T09:05:47.130374Z",
     "iopub.status.busy": "2022-01-17T09:05:47.129451Z",
     "iopub.status.idle": "2022-01-17T09:05:47.137253Z",
     "shell.execute_reply": "2022-01-17T09:05:47.136482Z"
    },
    "id": "3GHoEjGjw_Lb",
    "papermill": {
     "duration": 0.035924,
     "end_time": "2022-01-17T09:05:47.137446",
     "exception": false,
     "start_time": "2022-01-17T09:05:47.101522",
     "status": "completed"
    },
    "tags": []
   },
   "outputs": [],
   "source": [
    "titanic = titanic.drop(columns=['Ticket', 'PassengerId', 'Cabin'])"
   ]
  },
  {
   "cell_type": "code",
   "execution_count": 7,
   "id": "b4148e87",
   "metadata": {
    "execution": {
     "iopub.execute_input": "2022-01-17T09:05:47.183016Z",
     "iopub.status.busy": "2022-01-17T09:05:47.182135Z",
     "iopub.status.idle": "2022-01-17T09:05:47.195581Z",
     "shell.execute_reply": "2022-01-17T09:05:47.196057Z"
    },
    "id": "Rg90GvbCxDQu",
    "outputId": "8d50d020-d0e3-47c1-a325-3fb8e55198e5",
    "papermill": {
     "duration": 0.036559,
     "end_time": "2022-01-17T09:05:47.196335",
     "exception": false,
     "start_time": "2022-01-17T09:05:47.159776",
     "status": "completed"
    },
    "tags": []
   },
   "outputs": [
    {
     "data": {
      "text/html": [
       "<div>\n",
       "<style scoped>\n",
       "    .dataframe tbody tr th:only-of-type {\n",
       "        vertical-align: middle;\n",
       "    }\n",
       "\n",
       "    .dataframe tbody tr th {\n",
       "        vertical-align: top;\n",
       "    }\n",
       "\n",
       "    .dataframe thead th {\n",
       "        text-align: right;\n",
       "    }\n",
       "</style>\n",
       "<table border=\"1\" class=\"dataframe\">\n",
       "  <thead>\n",
       "    <tr style=\"text-align: right;\">\n",
       "      <th></th>\n",
       "      <th>Survived</th>\n",
       "      <th>Pclass</th>\n",
       "      <th>Name</th>\n",
       "      <th>Sex</th>\n",
       "      <th>Age</th>\n",
       "      <th>SibSp</th>\n",
       "      <th>Parch</th>\n",
       "      <th>Fare</th>\n",
       "      <th>Embarked</th>\n",
       "      <th>FamilySize</th>\n",
       "    </tr>\n",
       "  </thead>\n",
       "  <tbody>\n",
       "    <tr>\n",
       "      <th>0</th>\n",
       "      <td>0</td>\n",
       "      <td>3</td>\n",
       "      <td>Braund, Mr. Owen Harris</td>\n",
       "      <td>male</td>\n",
       "      <td>22.0</td>\n",
       "      <td>1</td>\n",
       "      <td>0</td>\n",
       "      <td>7.2500</td>\n",
       "      <td>S</td>\n",
       "      <td>2</td>\n",
       "    </tr>\n",
       "    <tr>\n",
       "      <th>1</th>\n",
       "      <td>1</td>\n",
       "      <td>1</td>\n",
       "      <td>Cumings, Mrs. John Bradley (Florence Briggs Th...</td>\n",
       "      <td>female</td>\n",
       "      <td>38.0</td>\n",
       "      <td>1</td>\n",
       "      <td>0</td>\n",
       "      <td>71.2833</td>\n",
       "      <td>C</td>\n",
       "      <td>2</td>\n",
       "    </tr>\n",
       "    <tr>\n",
       "      <th>2</th>\n",
       "      <td>1</td>\n",
       "      <td>3</td>\n",
       "      <td>Heikkinen, Miss. Laina</td>\n",
       "      <td>female</td>\n",
       "      <td>26.0</td>\n",
       "      <td>0</td>\n",
       "      <td>0</td>\n",
       "      <td>7.9250</td>\n",
       "      <td>S</td>\n",
       "      <td>1</td>\n",
       "    </tr>\n",
       "  </tbody>\n",
       "</table>\n",
       "</div>"
      ],
      "text/plain": [
       "   Survived  Pclass                                               Name  \\\n",
       "0         0       3                            Braund, Mr. Owen Harris   \n",
       "1         1       1  Cumings, Mrs. John Bradley (Florence Briggs Th...   \n",
       "2         1       3                             Heikkinen, Miss. Laina   \n",
       "\n",
       "      Sex   Age  SibSp  Parch     Fare Embarked  FamilySize  \n",
       "0    male  22.0      1      0   7.2500        S           2  \n",
       "1  female  38.0      1      0  71.2833        C           2  \n",
       "2  female  26.0      0      0   7.9250        S           1  "
      ]
     },
     "execution_count": 7,
     "metadata": {},
     "output_type": "execute_result"
    }
   ],
   "source": [
    "titanic.head(3)"
   ]
  },
  {
   "cell_type": "code",
   "execution_count": 8,
   "id": "5ace17a1",
   "metadata": {
    "execution": {
     "iopub.execute_input": "2022-01-17T09:05:47.241071Z",
     "iopub.status.busy": "2022-01-17T09:05:47.240494Z",
     "iopub.status.idle": "2022-01-17T09:05:47.247278Z",
     "shell.execute_reply": "2022-01-17T09:05:47.247737Z"
    },
    "id": "via0ALQCxHc3",
    "papermill": {
     "duration": 0.02838,
     "end_time": "2022-01-17T09:05:47.247896",
     "exception": false,
     "start_time": "2022-01-17T09:05:47.219516",
     "status": "completed"
    },
    "tags": []
   },
   "outputs": [],
   "source": [
    "titanic['Sex'] = titanic['Sex'].map({'male':0, 'female':1})\n",
    "titanic['Embarked'] = titanic['Embarked'].map({'C':0, 'Q':1, 'S':2})"
   ]
  },
  {
   "cell_type": "code",
   "execution_count": 9,
   "id": "48e078fc",
   "metadata": {
    "execution": {
     "iopub.execute_input": "2022-01-17T09:05:47.289689Z",
     "iopub.status.busy": "2022-01-17T09:05:47.289124Z",
     "iopub.status.idle": "2022-01-17T09:05:47.299281Z",
     "shell.execute_reply": "2022-01-17T09:05:47.299717Z"
    },
    "id": "QwgqANVQxMt9",
    "outputId": "35ee74da-1928-415c-f0a1-8d8f885c3364",
    "papermill": {
     "duration": 0.031648,
     "end_time": "2022-01-17T09:05:47.299870",
     "exception": false,
     "start_time": "2022-01-17T09:05:47.268222",
     "status": "completed"
    },
    "tags": []
   },
   "outputs": [
    {
     "data": {
      "text/plain": [
       "0        Mr\n",
       "1       Mrs\n",
       "2      Miss\n",
       "3       Mrs\n",
       "4        Mr\n",
       "       ... \n",
       "151     Mrs\n",
       "152      Mr\n",
       "153      Mr\n",
       "154      Mr\n",
       "155      Mr\n",
       "Name: Title, Length: 156, dtype: object"
      ]
     },
     "execution_count": 9,
     "metadata": {},
     "output_type": "execute_result"
    }
   ],
   "source": [
    "titanic['Title'] = titanic['Name'].str.extract(' ([A-Za-z]+)\\.', expand=False) #'expand=True, returns a dataframe'\n",
    "titanic= titanic.drop(columns='Name')\n",
    "titanic['Title']"
   ]
  },
  {
   "cell_type": "code",
   "execution_count": 10,
   "id": "8468e8ad",
   "metadata": {
    "execution": {
     "iopub.execute_input": "2022-01-17T09:05:47.340649Z",
     "iopub.status.busy": "2022-01-17T09:05:47.340097Z",
     "iopub.status.idle": "2022-01-17T09:05:47.345074Z",
     "shell.execute_reply": "2022-01-17T09:05:47.345530Z"
    },
    "id": "bwki3DhNxR-w",
    "outputId": "b506c4f1-493e-4ceb-8212-1575eb2e05cd",
    "papermill": {
     "duration": 0.027084,
     "end_time": "2022-01-17T09:05:47.345679",
     "exception": false,
     "start_time": "2022-01-17T09:05:47.318595",
     "status": "completed"
    },
    "tags": []
   },
   "outputs": [
    {
     "data": {
      "text/plain": [
       "array(['Mr', 'Mrs', 'Miss', 'Mrs', 'Mr', 'Mr', 'Mr', 'Master', 'Mrs',\n",
       "       'Mrs', 'Miss', 'Miss', 'Mr', 'Mr', 'Miss', 'Mrs', 'Master', 'Mr',\n",
       "       'Mrs', 'Mrs', 'Mr', 'Mr', 'Miss', 'Mr', 'Miss', 'Mrs', 'Mr', 'Mr',\n",
       "       'Miss', 'Mr', 'Don', 'Mrs', 'Miss', 'Mr', 'Mr', 'Mr', 'Mr', 'Mr',\n",
       "       'Miss', 'Miss', 'Mrs', 'Mrs', 'Mr', 'Miss', 'Miss', 'Mr', 'Mr',\n",
       "       'Miss', 'Mr', 'Mrs', 'Master', 'Mr', 'Mrs', 'Mrs', 'Mr', 'Mr',\n",
       "       'Miss', 'Mr', 'Miss', 'Master', 'Mr', 'Miss', 'Mr', 'Master', 'Mr',\n",
       "       'Master', 'Mrs', 'Mr', 'Miss', 'Mr', 'Mr', 'Miss', 'Mr', 'Mr',\n",
       "       'Mr', 'Mr', 'Mr', 'Mr', 'Master', 'Miss', 'Mr', 'Mr', 'Miss', 'Mr',\n",
       "       'Miss', 'Mrs', 'Mr', 'Mr', 'Miss', 'Mr', 'Mr', 'Mr', 'Mr', 'Mr',\n",
       "       'Mr', 'Mr', 'Mr', 'Mr', 'Mrs', 'Mr', 'Miss', 'Mr', 'Mr', 'Mr',\n",
       "       'Mr', 'Mr', 'Miss', 'Mr', 'Mr', 'Miss', 'Mr', 'Miss', 'Mr', 'Miss',\n",
       "       'Miss', 'Mr', 'Mr', 'Mr', 'Mr', 'Miss', 'Mr', 'Mr', 'Mr', 'Miss',\n",
       "       'Mr', 'Master', 'Mr', 'Mr', 'Miss', 'Mr', 'Mr', 'Mr', 'Mrs', 'Mrs',\n",
       "       'Mr', 'Mr', 'Miss', 'Mr', 'Mr', 'Mr', 'Mrs', 'Miss', 'Mrs', 'Mr',\n",
       "       'Mr', 'Mr', 'Mr', 'Miss', 'Mr', 'Rev', 'Rev', 'Mrs', 'Mr', 'Mr',\n",
       "       'Mr', 'Mr'], dtype=object)"
      ]
     },
     "execution_count": 10,
     "metadata": {},
     "output_type": "execute_result"
    }
   ],
   "source": [
    "titanic.Title.values"
   ]
  },
  {
   "cell_type": "code",
   "execution_count": 11,
   "id": "61f7c955",
   "metadata": {
    "execution": {
     "iopub.execute_input": "2022-01-17T09:05:47.386848Z",
     "iopub.status.busy": "2022-01-17T09:05:47.386298Z",
     "iopub.status.idle": "2022-01-17T09:05:47.393847Z",
     "shell.execute_reply": "2022-01-17T09:05:47.394465Z"
    },
    "id": "35nMSAYQxXOE",
    "outputId": "1f79a8c0-53b7-4705-be4e-e27379f80d38",
    "papermill": {
     "duration": 0.029852,
     "end_time": "2022-01-17T09:05:47.394629",
     "exception": false,
     "start_time": "2022-01-17T09:05:47.364777",
     "status": "completed"
    },
    "tags": []
   },
   "outputs": [
    {
     "name": "stdout",
     "output_type": "stream",
     "text": [
      "0        Mr\n",
      "1       Mrs\n",
      "2      Miss\n",
      "3       Mrs\n",
      "4        Mr\n",
      "       ... \n",
      "151     Mrs\n",
      "152      Mr\n",
      "153      Mr\n",
      "154      Mr\n",
      "155      Mr\n",
      "Name: Title, Length: 156, dtype: object\n"
     ]
    }
   ],
   "source": [
    "titanic['Title'] = titanic['Title'].replace(['Rev', 'Don'], 'Others')\n",
    "print(titanic['Title'])"
   ]
  },
  {
   "cell_type": "code",
   "execution_count": 12,
   "id": "1e83a9d7",
   "metadata": {
    "execution": {
     "iopub.execute_input": "2022-01-17T09:05:47.438206Z",
     "iopub.status.busy": "2022-01-17T09:05:47.437265Z",
     "iopub.status.idle": "2022-01-17T09:05:47.442566Z",
     "shell.execute_reply": "2022-01-17T09:05:47.443120Z"
    },
    "id": "WljSnJwAxnw9",
    "papermill": {
     "duration": 0.028554,
     "end_time": "2022-01-17T09:05:47.443286",
     "exception": false,
     "start_time": "2022-01-17T09:05:47.414732",
     "status": "completed"
    },
    "tags": []
   },
   "outputs": [],
   "source": [
    "titanic['Title'] = titanic['Title'].map({'Mr':1, 'Mrs':2 ,'Others':3 ,'Master':4 ,'Miss':5 })"
   ]
  },
  {
   "cell_type": "code",
   "execution_count": 13,
   "id": "6c4a205c",
   "metadata": {
    "execution": {
     "iopub.execute_input": "2022-01-17T09:05:47.487828Z",
     "iopub.status.busy": "2022-01-17T09:05:47.486931Z",
     "iopub.status.idle": "2022-01-17T09:05:47.499116Z",
     "shell.execute_reply": "2022-01-17T09:05:47.499583Z"
    },
    "id": "0yIiQDV1xuaN",
    "outputId": "9a672ace-0c5d-4848-9f52-b9a1411279b4",
    "papermill": {
     "duration": 0.036079,
     "end_time": "2022-01-17T09:05:47.499761",
     "exception": false,
     "start_time": "2022-01-17T09:05:47.463682",
     "status": "completed"
    },
    "tags": []
   },
   "outputs": [
    {
     "data": {
      "text/html": [
       "<div>\n",
       "<style scoped>\n",
       "    .dataframe tbody tr th:only-of-type {\n",
       "        vertical-align: middle;\n",
       "    }\n",
       "\n",
       "    .dataframe tbody tr th {\n",
       "        vertical-align: top;\n",
       "    }\n",
       "\n",
       "    .dataframe thead th {\n",
       "        text-align: right;\n",
       "    }\n",
       "</style>\n",
       "<table border=\"1\" class=\"dataframe\">\n",
       "  <thead>\n",
       "    <tr style=\"text-align: right;\">\n",
       "      <th></th>\n",
       "      <th>Survived</th>\n",
       "      <th>Pclass</th>\n",
       "      <th>Sex</th>\n",
       "      <th>Age</th>\n",
       "      <th>SibSp</th>\n",
       "      <th>Parch</th>\n",
       "      <th>Fare</th>\n",
       "      <th>Embarked</th>\n",
       "      <th>FamilySize</th>\n",
       "      <th>Title</th>\n",
       "    </tr>\n",
       "  </thead>\n",
       "  <tbody>\n",
       "    <tr>\n",
       "      <th>0</th>\n",
       "      <td>0</td>\n",
       "      <td>3</td>\n",
       "      <td>0</td>\n",
       "      <td>22.0</td>\n",
       "      <td>1</td>\n",
       "      <td>0</td>\n",
       "      <td>7.2500</td>\n",
       "      <td>2.0</td>\n",
       "      <td>2</td>\n",
       "      <td>1</td>\n",
       "    </tr>\n",
       "    <tr>\n",
       "      <th>1</th>\n",
       "      <td>1</td>\n",
       "      <td>1</td>\n",
       "      <td>1</td>\n",
       "      <td>38.0</td>\n",
       "      <td>1</td>\n",
       "      <td>0</td>\n",
       "      <td>71.2833</td>\n",
       "      <td>0.0</td>\n",
       "      <td>2</td>\n",
       "      <td>2</td>\n",
       "    </tr>\n",
       "    <tr>\n",
       "      <th>2</th>\n",
       "      <td>1</td>\n",
       "      <td>3</td>\n",
       "      <td>1</td>\n",
       "      <td>26.0</td>\n",
       "      <td>0</td>\n",
       "      <td>0</td>\n",
       "      <td>7.9250</td>\n",
       "      <td>2.0</td>\n",
       "      <td>1</td>\n",
       "      <td>5</td>\n",
       "    </tr>\n",
       "    <tr>\n",
       "      <th>3</th>\n",
       "      <td>1</td>\n",
       "      <td>1</td>\n",
       "      <td>1</td>\n",
       "      <td>35.0</td>\n",
       "      <td>1</td>\n",
       "      <td>0</td>\n",
       "      <td>53.1000</td>\n",
       "      <td>2.0</td>\n",
       "      <td>2</td>\n",
       "      <td>2</td>\n",
       "    </tr>\n",
       "    <tr>\n",
       "      <th>4</th>\n",
       "      <td>0</td>\n",
       "      <td>3</td>\n",
       "      <td>0</td>\n",
       "      <td>35.0</td>\n",
       "      <td>0</td>\n",
       "      <td>0</td>\n",
       "      <td>8.0500</td>\n",
       "      <td>2.0</td>\n",
       "      <td>1</td>\n",
       "      <td>1</td>\n",
       "    </tr>\n",
       "  </tbody>\n",
       "</table>\n",
       "</div>"
      ],
      "text/plain": [
       "   Survived  Pclass  Sex   Age  SibSp  Parch     Fare  Embarked  FamilySize  \\\n",
       "0         0       3    0  22.0      1      0   7.2500       2.0           2   \n",
       "1         1       1    1  38.0      1      0  71.2833       0.0           2   \n",
       "2         1       3    1  26.0      0      0   7.9250       2.0           1   \n",
       "3         1       1    1  35.0      1      0  53.1000       2.0           2   \n",
       "4         0       3    0  35.0      0      0   8.0500       2.0           1   \n",
       "\n",
       "   Title  \n",
       "0      1  \n",
       "1      2  \n",
       "2      5  \n",
       "3      2  \n",
       "4      1  "
      ]
     },
     "execution_count": 13,
     "metadata": {},
     "output_type": "execute_result"
    }
   ],
   "source": [
    "titanic.head()"
   ]
  },
  {
   "cell_type": "code",
   "execution_count": 14,
   "id": "fe589f7f",
   "metadata": {
    "execution": {
     "iopub.execute_input": "2022-01-17T09:05:47.552480Z",
     "iopub.status.busy": "2022-01-17T09:05:47.551701Z",
     "iopub.status.idle": "2022-01-17T09:05:47.554344Z",
     "shell.execute_reply": "2022-01-17T09:05:47.554823Z"
    },
    "id": "jZjtHRS2xyRE",
    "outputId": "ec94ff68-49b2-4fa6-d619-53e3a5b65d9b",
    "papermill": {
     "duration": 0.032209,
     "end_time": "2022-01-17T09:05:47.555001",
     "exception": false,
     "start_time": "2022-01-17T09:05:47.522792",
     "status": "completed"
    },
    "tags": []
   },
   "outputs": [
    {
     "data": {
      "text/plain": [
       "Survived       0\n",
       "Pclass         0\n",
       "Sex            0\n",
       "Age           30\n",
       "SibSp          0\n",
       "Parch          0\n",
       "Fare           0\n",
       "Embarked       1\n",
       "FamilySize     0\n",
       "Title          0\n",
       "dtype: int64"
      ]
     },
     "execution_count": 14,
     "metadata": {},
     "output_type": "execute_result"
    }
   ],
   "source": [
    "titanic.isnull().sum()"
   ]
  },
  {
   "cell_type": "code",
   "execution_count": 15,
   "id": "95370e34",
   "metadata": {
    "execution": {
     "iopub.execute_input": "2022-01-17T09:05:47.617384Z",
     "iopub.status.busy": "2022-01-17T09:05:47.616454Z",
     "iopub.status.idle": "2022-01-17T09:05:47.628572Z",
     "shell.execute_reply": "2022-01-17T09:05:47.629469Z"
    },
    "id": "mybnS_tAx5-k",
    "outputId": "d7067212-6754-489c-e512-18f188dec471",
    "papermill": {
     "duration": 0.046116,
     "end_time": "2022-01-17T09:05:47.629726",
     "exception": false,
     "start_time": "2022-01-17T09:05:47.583610",
     "status": "completed"
    },
    "tags": []
   },
   "outputs": [
    {
     "name": "stdout",
     "output_type": "stream",
     "text": [
      "<class 'pandas.core.frame.DataFrame'>\n",
      "RangeIndex: 156 entries, 0 to 155\n",
      "Data columns (total 10 columns):\n",
      " #   Column      Non-Null Count  Dtype  \n",
      "---  ------      --------------  -----  \n",
      " 0   Survived    156 non-null    int64  \n",
      " 1   Pclass      156 non-null    int64  \n",
      " 2   Sex         156 non-null    int64  \n",
      " 3   Age         126 non-null    float64\n",
      " 4   SibSp       156 non-null    int64  \n",
      " 5   Parch       156 non-null    int64  \n",
      " 6   Fare        156 non-null    float64\n",
      " 7   Embarked    156 non-null    float64\n",
      " 8   FamilySize  156 non-null    int64  \n",
      " 9   Title       156 non-null    int64  \n",
      "dtypes: float64(3), int64(7)\n",
      "memory usage: 12.3 KB\n"
     ]
    }
   ],
   "source": [
    "titanic['Embarked'] = titanic['Embarked'].fillna(2)\n",
    "titanic.info()"
   ]
  },
  {
   "cell_type": "code",
   "execution_count": 16,
   "id": "cfc31d1b",
   "metadata": {
    "execution": {
     "iopub.execute_input": "2022-01-17T09:05:47.684402Z",
     "iopub.status.busy": "2022-01-17T09:05:47.683705Z",
     "iopub.status.idle": "2022-01-17T09:05:47.686880Z",
     "shell.execute_reply": "2022-01-17T09:05:47.686420Z"
    },
    "id": "0U5B2VbCx7PZ",
    "papermill": {
     "duration": 0.03365,
     "end_time": "2022-01-17T09:05:47.687016",
     "exception": false,
     "start_time": "2022-01-17T09:05:47.653366",
     "status": "completed"
    },
    "tags": []
   },
   "outputs": [],
   "source": [
    "titanic['Age']=titanic['Age'].fillna(titanic['Age'].median())\n",
    "\n"
   ]
  },
  {
   "cell_type": "code",
   "execution_count": 17,
   "id": "f76e3000",
   "metadata": {
    "execution": {
     "iopub.execute_input": "2022-01-17T09:05:47.734166Z",
     "iopub.status.busy": "2022-01-17T09:05:47.733363Z",
     "iopub.status.idle": "2022-01-17T09:05:47.740402Z",
     "shell.execute_reply": "2022-01-17T09:05:47.740925Z"
    },
    "id": "Qq6qNXx-x_ok",
    "outputId": "fbc95867-e8df-41a0-c3cc-4130d8409c49",
    "papermill": {
     "duration": 0.032091,
     "end_time": "2022-01-17T09:05:47.741110",
     "exception": false,
     "start_time": "2022-01-17T09:05:47.709019",
     "status": "completed"
    },
    "tags": []
   },
   "outputs": [
    {
     "data": {
      "text/plain": [
       "Survived      0\n",
       "Pclass        0\n",
       "Sex           0\n",
       "Age           0\n",
       "SibSp         0\n",
       "Parch         0\n",
       "Fare          0\n",
       "Embarked      0\n",
       "FamilySize    0\n",
       "Title         0\n",
       "dtype: int64"
      ]
     },
     "execution_count": 17,
     "metadata": {},
     "output_type": "execute_result"
    }
   ],
   "source": [
    "titanic.isnull().sum()"
   ]
  },
  {
   "cell_type": "code",
   "execution_count": 18,
   "id": "04d6e5d0",
   "metadata": {
    "execution": {
     "iopub.execute_input": "2022-01-17T09:05:47.788686Z",
     "iopub.status.busy": "2022-01-17T09:05:47.786509Z",
     "iopub.status.idle": "2022-01-17T09:05:47.792490Z",
     "shell.execute_reply": "2022-01-17T09:05:47.792996Z"
    },
    "id": "Md3SdZWVyEQl",
    "outputId": "eba90a16-1cc4-4dda-bb0a-15484fd7b851",
    "papermill": {
     "duration": 0.030629,
     "end_time": "2022-01-17T09:05:47.793169",
     "exception": false,
     "start_time": "2022-01-17T09:05:47.762540",
     "status": "completed"
    },
    "tags": []
   },
   "outputs": [
    {
     "data": {
      "text/plain": [
       "Survived        int64\n",
       "Pclass          int64\n",
       "Sex             int64\n",
       "Age           float64\n",
       "SibSp           int64\n",
       "Parch           int64\n",
       "Fare          float64\n",
       "Embarked      float64\n",
       "FamilySize      int64\n",
       "Title           int64\n",
       "dtype: object"
      ]
     },
     "execution_count": 18,
     "metadata": {},
     "output_type": "execute_result"
    }
   ],
   "source": [
    "titanic.dtypes"
   ]
  },
  {
   "cell_type": "code",
   "execution_count": 19,
   "id": "6368d3ff",
   "metadata": {
    "execution": {
     "iopub.execute_input": "2022-01-17T09:05:47.838832Z",
     "iopub.status.busy": "2022-01-17T09:05:47.838299Z",
     "iopub.status.idle": "2022-01-17T09:05:47.853301Z",
     "shell.execute_reply": "2022-01-17T09:05:47.853728Z"
    },
    "id": "sbv00R56yJJA",
    "outputId": "a41411bf-6c6f-4920-9d01-d76f577053e2",
    "papermill": {
     "duration": 0.039376,
     "end_time": "2022-01-17T09:05:47.853882",
     "exception": false,
     "start_time": "2022-01-17T09:05:47.814506",
     "status": "completed"
    },
    "tags": []
   },
   "outputs": [
    {
     "data": {
      "text/html": [
       "<div>\n",
       "<style scoped>\n",
       "    .dataframe tbody tr th:only-of-type {\n",
       "        vertical-align: middle;\n",
       "    }\n",
       "\n",
       "    .dataframe tbody tr th {\n",
       "        vertical-align: top;\n",
       "    }\n",
       "\n",
       "    .dataframe thead th {\n",
       "        text-align: right;\n",
       "    }\n",
       "</style>\n",
       "<table border=\"1\" class=\"dataframe\">\n",
       "  <thead>\n",
       "    <tr style=\"text-align: right;\">\n",
       "      <th></th>\n",
       "      <th>Survived</th>\n",
       "      <th>Pclass</th>\n",
       "      <th>Sex</th>\n",
       "      <th>Age</th>\n",
       "      <th>SibSp</th>\n",
       "      <th>Parch</th>\n",
       "      <th>Fare</th>\n",
       "      <th>Embarked</th>\n",
       "      <th>FamilySize</th>\n",
       "      <th>Title</th>\n",
       "    </tr>\n",
       "  </thead>\n",
       "  <tbody>\n",
       "    <tr>\n",
       "      <th>0</th>\n",
       "      <td>0</td>\n",
       "      <td>3</td>\n",
       "      <td>0</td>\n",
       "      <td>22.0</td>\n",
       "      <td>1</td>\n",
       "      <td>0</td>\n",
       "      <td>7.2500</td>\n",
       "      <td>2.0</td>\n",
       "      <td>2</td>\n",
       "      <td>1</td>\n",
       "    </tr>\n",
       "    <tr>\n",
       "      <th>1</th>\n",
       "      <td>1</td>\n",
       "      <td>1</td>\n",
       "      <td>1</td>\n",
       "      <td>38.0</td>\n",
       "      <td>1</td>\n",
       "      <td>0</td>\n",
       "      <td>71.2833</td>\n",
       "      <td>0.0</td>\n",
       "      <td>2</td>\n",
       "      <td>2</td>\n",
       "    </tr>\n",
       "    <tr>\n",
       "      <th>2</th>\n",
       "      <td>1</td>\n",
       "      <td>3</td>\n",
       "      <td>1</td>\n",
       "      <td>26.0</td>\n",
       "      <td>0</td>\n",
       "      <td>0</td>\n",
       "      <td>7.9250</td>\n",
       "      <td>2.0</td>\n",
       "      <td>1</td>\n",
       "      <td>5</td>\n",
       "    </tr>\n",
       "    <tr>\n",
       "      <th>3</th>\n",
       "      <td>1</td>\n",
       "      <td>1</td>\n",
       "      <td>1</td>\n",
       "      <td>35.0</td>\n",
       "      <td>1</td>\n",
       "      <td>0</td>\n",
       "      <td>53.1000</td>\n",
       "      <td>2.0</td>\n",
       "      <td>2</td>\n",
       "      <td>2</td>\n",
       "    </tr>\n",
       "    <tr>\n",
       "      <th>4</th>\n",
       "      <td>0</td>\n",
       "      <td>3</td>\n",
       "      <td>0</td>\n",
       "      <td>35.0</td>\n",
       "      <td>0</td>\n",
       "      <td>0</td>\n",
       "      <td>8.0500</td>\n",
       "      <td>2.0</td>\n",
       "      <td>1</td>\n",
       "      <td>1</td>\n",
       "    </tr>\n",
       "  </tbody>\n",
       "</table>\n",
       "</div>"
      ],
      "text/plain": [
       "   Survived  Pclass  Sex   Age  SibSp  Parch     Fare  Embarked  FamilySize  \\\n",
       "0         0       3    0  22.0      1      0   7.2500       2.0           2   \n",
       "1         1       1    1  38.0      1      0  71.2833       0.0           2   \n",
       "2         1       3    1  26.0      0      0   7.9250       2.0           1   \n",
       "3         1       1    1  35.0      1      0  53.1000       2.0           2   \n",
       "4         0       3    0  35.0      0      0   8.0500       2.0           1   \n",
       "\n",
       "   Title  \n",
       "0      1  \n",
       "1      2  \n",
       "2      5  \n",
       "3      2  \n",
       "4      1  "
      ]
     },
     "execution_count": 19,
     "metadata": {},
     "output_type": "execute_result"
    }
   ],
   "source": [
    "titanic.head()"
   ]
  },
  {
   "cell_type": "code",
   "execution_count": 20,
   "id": "c04faca0",
   "metadata": {
    "execution": {
     "iopub.execute_input": "2022-01-17T09:05:47.900779Z",
     "iopub.status.busy": "2022-01-17T09:05:47.900196Z",
     "iopub.status.idle": "2022-01-17T09:05:47.904867Z",
     "shell.execute_reply": "2022-01-17T09:05:47.905375Z"
    },
    "id": "ifhu-66byNX7",
    "papermill": {
     "duration": 0.02954,
     "end_time": "2022-01-17T09:05:47.905547",
     "exception": false,
     "start_time": "2022-01-17T09:05:47.876007",
     "status": "completed"
    },
    "tags": []
   },
   "outputs": [],
   "source": [
    "X=titanic.iloc[:,1:10]\n",
    "y=titanic.iloc[:,0]\n",
    "\n"
   ]
  },
  {
   "cell_type": "code",
   "execution_count": 21,
   "id": "ef184217",
   "metadata": {
    "execution": {
     "iopub.execute_input": "2022-01-17T09:05:47.958209Z",
     "iopub.status.busy": "2022-01-17T09:05:47.957431Z",
     "iopub.status.idle": "2022-01-17T09:05:49.298148Z",
     "shell.execute_reply": "2022-01-17T09:05:49.297631Z"
    },
    "id": "j9s95jpW3Ll9",
    "papermill": {
     "duration": 1.369472,
     "end_time": "2022-01-17T09:05:49.298293",
     "exception": false,
     "start_time": "2022-01-17T09:05:47.928821",
     "status": "completed"
    },
    "tags": []
   },
   "outputs": [],
   "source": [
    "import pandas as pd\n",
    "import matplotlib.pyplot as plt\n",
    "import seaborn as sns\n",
    "import numpy as np\n",
    "from sklearn.datasets import load_wine\n",
    "from sklearn.model_selection import train_test_split, GridSearchCV\n",
    "from sklearn.tree import DecisionTreeClassifier, plot_tree\n",
    "from sklearn.metrics import confusion_matrix,accuracy_score"
   ]
  },
  {
   "cell_type": "code",
   "execution_count": 22,
   "id": "6899b920",
   "metadata": {
    "execution": {
     "iopub.execute_input": "2022-01-17T09:05:49.350753Z",
     "iopub.status.busy": "2022-01-17T09:05:49.346569Z",
     "iopub.status.idle": "2022-01-17T09:05:50.169890Z",
     "shell.execute_reply": "2022-01-17T09:05:50.170370Z"
    },
    "id": "g8brzzRz3B_8",
    "outputId": "9072565d-e2c2-499f-e382-ec8436872c90",
    "papermill": {
     "duration": 0.849328,
     "end_time": "2022-01-17T09:05:50.170541",
     "exception": false,
     "start_time": "2022-01-17T09:05:49.321213",
     "status": "completed"
    },
    "tags": []
   },
   "outputs": [
    {
     "data": {
      "text/plain": [
       "<AxesSubplot:>"
      ]
     },
     "execution_count": 22,
     "metadata": {},
     "output_type": "execute_result"
    },
    {
     "data": {
      "image/png": "[encoded data removed]",
      "text/plain": [
       "<Figure size 1440x720 with 2 Axes>"
      ]
     },
     "metadata": {
      "needs_background": "light"
     },
     "output_type": "display_data"
    }
   ],
   "source": [
    "plt.figure(figsize=(20,10))\n",
    "sns.heatmap(titanic.iloc[:,:10].corr(),annot=True, linewidths=2, square=True)"
   ]
  },
  {
   "cell_type": "code",
   "execution_count": 23,
   "id": "2ae6809c",
   "metadata": {
    "execution": {
     "iopub.execute_input": "2022-01-17T09:05:50.237764Z",
     "iopub.status.busy": "2022-01-17T09:05:50.224153Z",
     "iopub.status.idle": "2022-01-17T09:05:51.112891Z",
     "shell.execute_reply": "2022-01-17T09:05:51.112372Z"
    },
    "id": "InBEJrdw9fsE",
    "outputId": "e74f6deb-8617-452d-f64e-2ace2d36f134",
    "papermill": {
     "duration": 0.916644,
     "end_time": "2022-01-17T09:05:51.113027",
     "exception": false,
     "start_time": "2022-01-17T09:05:50.196383",
     "status": "completed"
    },
    "tags": []
   },
   "outputs": [
    {
     "data": {
      "image/png": "[encoded data removed]",
      "text/plain": [
       "<Figure size 1080x576 with 10 Axes>"
      ]
     },
     "metadata": {
      "needs_background": "light"
     },
     "output_type": "display_data"
    }
   ],
   "source": [
    "plt.figure(figsize=(15,8))\n",
    "for i, column in enumerate(titanic.columns.values,1):\n",
    "    plt.subplot(3,5,i)\n",
    "    plt.boxplot(titanic[column])\n",
    "    plt.title(column)\n",
    "plt.show()"
   ]
  },
  {
   "cell_type": "code",
   "execution_count": 24,
   "id": "d1155791",
   "metadata": {
    "execution": {
     "iopub.execute_input": "2022-01-17T09:05:51.171622Z",
     "iopub.status.busy": "2022-01-17T09:05:51.171020Z",
     "iopub.status.idle": "2022-01-17T09:05:51.174341Z",
     "shell.execute_reply": "2022-01-17T09:05:51.174790Z"
    },
    "id": "mVn7-DAcHPjz",
    "papermill": {
     "duration": 0.035782,
     "end_time": "2022-01-17T09:05:51.174940",
     "exception": false,
     "start_time": "2022-01-17T09:05:51.139158",
     "status": "completed"
    },
    "tags": []
   },
   "outputs": [],
   "source": [
    "X_train, X_test, y_train, y_test = train_test_split(X, y, test_size=0.2, random_state=42)"
   ]
  },
  {
   "cell_type": "code",
   "execution_count": 25,
   "id": "12b11939",
   "metadata": {
    "execution": {
     "iopub.execute_input": "2022-01-17T09:05:51.230716Z",
     "iopub.status.busy": "2022-01-17T09:05:51.230128Z",
     "iopub.status.idle": "2022-01-17T09:05:51.234809Z",
     "shell.execute_reply": "2022-01-17T09:05:51.235346Z"
    },
    "id": "C-zZ-aJEHagi",
    "outputId": "fc569954-6f76-4334-a7bf-dbca0b8b145d",
    "papermill": {
     "duration": 0.035115,
     "end_time": "2022-01-17T09:05:51.235504",
     "exception": false,
     "start_time": "2022-01-17T09:05:51.200389",
     "status": "completed"
    },
    "tags": []
   },
   "outputs": [
    {
     "data": {
      "text/plain": [
       "DecisionTreeClassifier()"
      ]
     },
     "execution_count": 25,
     "metadata": {},
     "output_type": "execute_result"
    }
   ],
   "source": [
    "model=DecisionTreeClassifier()\n",
    "model"
   ]
  },
  {
   "cell_type": "code",
   "execution_count": 26,
   "id": "1a7c4a40",
   "metadata": {
    "execution": {
     "iopub.execute_input": "2022-01-17T09:05:51.290933Z",
     "iopub.status.busy": "2022-01-17T09:05:51.290401Z",
     "iopub.status.idle": "2022-01-17T09:05:51.298623Z",
     "shell.execute_reply": "2022-01-17T09:05:51.299095Z"
    },
    "id": "ariB-dJHHf3t",
    "outputId": "9dab2b3b-680c-4821-f09a-6486c40ffd5d",
    "papermill": {
     "duration": 0.037491,
     "end_time": "2022-01-17T09:05:51.299253",
     "exception": false,
     "start_time": "2022-01-17T09:05:51.261762",
     "status": "completed"
    },
    "tags": []
   },
   "outputs": [
    {
     "data": {
      "text/plain": [
       "DecisionTreeClassifier()"
      ]
     },
     "execution_count": 26,
     "metadata": {},
     "output_type": "execute_result"
    }
   ],
   "source": [
    "model.fit(X_train,y_train)"
   ]
  },
  {
   "cell_type": "code",
   "execution_count": 27,
   "id": "ddd247ba",
   "metadata": {
    "execution": {
     "iopub.execute_input": "2022-01-17T09:05:51.355130Z",
     "iopub.status.busy": "2022-01-17T09:05:51.354534Z",
     "iopub.status.idle": "2022-01-17T09:05:51.362115Z",
     "shell.execute_reply": "2022-01-17T09:05:51.362724Z"
    },
    "id": "_bvXxPRPHnEh",
    "papermill": {
     "duration": 0.037395,
     "end_time": "2022-01-17T09:05:51.362907",
     "exception": false,
     "start_time": "2022-01-17T09:05:51.325512",
     "status": "completed"
    },
    "tags": []
   },
   "outputs": [
    {
     "name": "stdout",
     "output_type": "stream",
     "text": [
      "[0 0 1 0 0 0 0 0 1 0 0 0 1 0 1 0 1 0 0 0 0 1 0 1 1 0 0 1 0 0 0 1]\n"
     ]
    }
   ],
   "source": [
    "train_pred=model.predict(X_train)\n",
    "test_pred=model.predict(X_test)\n",
    "print(test_pred)"
   ]
  },
  {
   "cell_type": "code",
   "execution_count": 28,
   "id": "187119b4",
   "metadata": {
    "execution": {
     "iopub.execute_input": "2022-01-17T09:05:51.419830Z",
     "iopub.status.busy": "2022-01-17T09:05:51.419188Z",
     "iopub.status.idle": "2022-01-17T09:05:51.423206Z",
     "shell.execute_reply": "2022-01-17T09:05:51.423641Z"
    },
    "id": "Q_HXLVGEH182",
    "papermill": {
     "duration": 0.03419,
     "end_time": "2022-01-17T09:05:51.423804",
     "exception": false,
     "start_time": "2022-01-17T09:05:51.389614",
     "status": "completed"
    },
    "tags": []
   },
   "outputs": [],
   "source": [
    "train_acc=accuracy_score(y_train,train_pred)\n",
    "test_acc=accuracy_score(y_test,test_pred)"
   ]
  },
  {
   "cell_type": "code",
   "execution_count": 29,
   "id": "74b03156",
   "metadata": {
    "execution": {
     "iopub.execute_input": "2022-01-17T09:05:51.482004Z",
     "iopub.status.busy": "2022-01-17T09:05:51.481427Z",
     "iopub.status.idle": "2022-01-17T09:05:51.486597Z",
     "shell.execute_reply": "2022-01-17T09:05:51.486107Z"
    },
    "id": "WRLaSDnUH3hm",
    "outputId": "8e8e70d2-60fc-4817-fee2-d1c4fc7e920e",
    "papermill": {
     "duration": 0.035114,
     "end_time": "2022-01-17T09:05:51.486723",
     "exception": false,
     "start_time": "2022-01-17T09:05:51.451609",
     "status": "completed"
    },
    "tags": []
   },
   "outputs": [
    {
     "data": {
      "text/plain": [
       "(1.0, 0.65625)"
      ]
     },
     "execution_count": 29,
     "metadata": {},
     "output_type": "execute_result"
    }
   ],
   "source": [
    "train_acc,test_acc"
   ]
  },
  {
   "cell_type": "code",
   "execution_count": 30,
   "id": "d0a87ca0",
   "metadata": {
    "execution": {
     "iopub.execute_input": "2022-01-17T09:05:51.545593Z",
     "iopub.status.busy": "2022-01-17T09:05:51.544696Z",
     "iopub.status.idle": "2022-01-17T09:05:54.561717Z",
     "shell.execute_reply": "2022-01-17T09:05:54.562169Z"
    },
    "id": "_i0aSTfXH9J5",
    "outputId": "3b9604e6-d6dc-4636-9339-1a9d24475c45",
    "papermill": {
     "duration": 3.047804,
     "end_time": "2022-01-17T09:05:54.562330",
     "exception": false,
     "start_time": "2022-01-17T09:05:51.514526",
     "status": "completed"
    },
    "tags": []
   },
   "outputs": [
    {
     "data": {
      "text/plain": [
       "[Text(229.17857142857142, 522.6923076923077, 'X[1] <= 0.5\\ngini = 0.453\\nsamples = 124\\nvalue = [81, 43]'),\n",
       " Text(139.5, 480.8769230769231, 'X[2] <= 23.5\\ngini = 0.216\\nsamples = 81\\nvalue = [71, 10]'),\n",
       " Text(119.57142857142856, 439.0615384615385, 'gini = 0.0\\nsamples = 24\\nvalue = [24, 0]'),\n",
       " Text(159.42857142857142, 439.0615384615385, 'X[2] <= 34.5\\ngini = 0.289\\nsamples = 57\\nvalue = [47, 10]'),\n",
       " Text(139.5, 397.2461538461539, 'X[8] <= 2.5\\ngini = 0.394\\nsamples = 37\\nvalue = [27, 10]'),\n",
       " Text(119.57142857142856, 355.4307692307692, 'X[6] <= 1.5\\ngini = 0.375\\nsamples = 36\\nvalue = [27, 9]'),\n",
       " Text(79.71428571428571, 313.61538461538464, 'X[5] <= 7.49\\ngini = 0.133\\nsamples = 14\\nvalue = [13, 1]'),\n",
       " Text(59.78571428571428, 271.8, 'X[2] <= 27.25\\ngini = 0.444\\nsamples = 3\\nvalue = [2, 1]'),\n",
       " Text(39.857142857142854, 229.98461538461538, 'X[5] <= 7.227\\ngini = 0.5\\nsamples = 2\\nvalue = [1, 1]'),\n",
       " Text(19.928571428571427, 188.1692307692308, 'gini = 0.0\\nsamples = 1\\nvalue = [1, 0]'),\n",
       " Text(59.78571428571428, 188.1692307692308, 'gini = 0.0\\nsamples = 1\\nvalue = [0, 1]'),\n",
       " Text(79.71428571428571, 229.98461538461538, 'gini = 0.0\\nsamples = 1\\nvalue = [1, 0]'),\n",
       " Text(99.64285714285714, 271.8, 'gini = 0.0\\nsamples = 11\\nvalue = [11, 0]'),\n",
       " Text(159.42857142857142, 313.61538461538464, 'X[5] <= 7.227\\ngini = 0.463\\nsamples = 22\\nvalue = [14, 8]'),\n",
       " Text(139.5, 271.8, 'gini = 0.0\\nsamples = 1\\nvalue = [0, 1]'),\n",
       " Text(179.35714285714283, 271.8, 'X[5] <= 9.077\\ngini = 0.444\\nsamples = 21\\nvalue = [14, 7]'),\n",
       " Text(139.5, 229.98461538461538, 'X[5] <= 7.846\\ngini = 0.298\\nsamples = 11\\nvalue = [9, 2]'),\n",
       " Text(119.57142857142856, 188.1692307692308, 'X[5] <= 7.713\\ngini = 0.5\\nsamples = 4\\nvalue = [2, 2]'),\n",
       " Text(99.64285714285714, 146.35384615384618, 'gini = 0.0\\nsamples = 2\\nvalue = [2, 0]'),\n",
       " Text(139.5, 146.35384615384618, 'gini = 0.0\\nsamples = 2\\nvalue = [0, 2]'),\n",
       " Text(159.42857142857142, 188.1692307692308, 'gini = 0.0\\nsamples = 7\\nvalue = [7, 0]'),\n",
       " Text(219.2142857142857, 229.98461538461538, 'X[0] <= 2.5\\ngini = 0.5\\nsamples = 10\\nvalue = [5, 5]'),\n",
       " Text(199.28571428571428, 188.1692307692308, 'X[7] <= 1.5\\ngini = 0.469\\nsamples = 8\\nvalue = [5, 3]'),\n",
       " Text(179.35714285714283, 146.35384615384618, 'X[2] <= 25.5\\ngini = 0.5\\nsamples = 6\\nvalue = [3, 3]'),\n",
       " Text(159.42857142857142, 104.53846153846155, 'gini = 0.0\\nsamples = 1\\nvalue = [1, 0]'),\n",
       " Text(199.28571428571428, 104.53846153846155, 'X[5] <= 11.75\\ngini = 0.48\\nsamples = 5\\nvalue = [2, 3]'),\n",
       " Text(179.35714285714283, 62.72307692307692, 'gini = 0.0\\nsamples = 1\\nvalue = [1, 0]'),\n",
       " Text(219.2142857142857, 62.72307692307692, 'X[5] <= 41.3\\ngini = 0.375\\nsamples = 4\\nvalue = [1, 3]'),\n",
       " Text(199.28571428571428, 20.907692307692287, 'gini = 0.0\\nsamples = 3\\nvalue = [0, 3]'),\n",
       " Text(239.1428571428571, 20.907692307692287, 'gini = 0.0\\nsamples = 1\\nvalue = [1, 0]'),\n",
       " Text(219.2142857142857, 146.35384615384618, 'gini = 0.0\\nsamples = 2\\nvalue = [2, 0]'),\n",
       " Text(239.1428571428571, 188.1692307692308, 'gini = 0.0\\nsamples = 2\\nvalue = [0, 2]'),\n",
       " Text(159.42857142857142, 355.4307692307692, 'gini = 0.0\\nsamples = 1\\nvalue = [0, 1]'),\n",
       " Text(179.35714285714283, 397.2461538461539, 'gini = 0.0\\nsamples = 20\\nvalue = [20, 0]'),\n",
       " Text(318.85714285714283, 480.8769230769231, 'X[0] <= 2.5\\ngini = 0.357\\nsamples = 43\\nvalue = [10, 33]'),\n",
       " Text(239.1428571428571, 439.0615384615385, 'X[5] <= 23.5\\ngini = 0.111\\nsamples = 17\\nvalue = [1, 16]'),\n",
       " Text(219.2142857142857, 397.2461538461539, 'X[7] <= 1.5\\ngini = 0.32\\nsamples = 5\\nvalue = [1, 4]'),\n",
       " Text(199.28571428571428, 355.4307692307692, 'gini = 0.0\\nsamples = 4\\nvalue = [0, 4]'),\n",
       " Text(239.1428571428571, 355.4307692307692, 'gini = 0.0\\nsamples = 1\\nvalue = [1, 0]'),\n",
       " Text(259.07142857142856, 397.2461538461539, 'gini = 0.0\\nsamples = 12\\nvalue = [0, 12]'),\n",
       " Text(398.57142857142856, 439.0615384615385, 'X[2] <= 20.5\\ngini = 0.453\\nsamples = 26\\nvalue = [9, 17]'),\n",
       " Text(318.85714285714283, 397.2461538461539, 'X[6] <= 1.5\\ngini = 0.48\\nsamples = 10\\nvalue = [6, 4]'),\n",
       " Text(279.0, 355.4307692307692, 'X[5] <= 12.848\\ngini = 0.375\\nsamples = 4\\nvalue = [1, 3]'),\n",
       " Text(259.07142857142856, 313.61538461538464, 'gini = 0.0\\nsamples = 3\\nvalue = [0, 3]'),\n",
       " Text(298.9285714285714, 313.61538461538464, 'gini = 0.0\\nsamples = 1\\nvalue = [1, 0]'),\n",
       " Text(358.71428571428567, 355.4307692307692, 'X[2] <= 9.0\\ngini = 0.278\\nsamples = 6\\nvalue = [5, 1]'),\n",
       " Text(338.7857142857143, 313.61538461538464, 'gini = 0.0\\nsamples = 1\\nvalue = [0, 1]'),\n",
       " Text(378.6428571428571, 313.61538461538464, 'gini = 0.0\\nsamples = 5\\nvalue = [5, 0]'),\n",
       " Text(478.2857142857142, 397.2461538461539, 'X[2] <= 39.0\\ngini = 0.305\\nsamples = 16\\nvalue = [3, 13]'),\n",
       " Text(458.35714285714283, 355.4307692307692, 'X[6] <= 0.5\\ngini = 0.231\\nsamples = 15\\nvalue = [2, 13]'),\n",
       " Text(418.49999999999994, 313.61538461538464, 'X[3] <= 0.5\\ngini = 0.5\\nsamples = 2\\nvalue = [1, 1]'),\n",
       " Text(398.57142857142856, 271.8, 'gini = 0.0\\nsamples = 1\\nvalue = [1, 0]'),\n",
       " Text(438.4285714285714, 271.8, 'gini = 0.0\\nsamples = 1\\nvalue = [0, 1]'),\n",
       " Text(498.21428571428567, 313.61538461538464, 'X[2] <= 27.5\\ngini = 0.142\\nsamples = 13\\nvalue = [1, 12]'),\n",
       " Text(478.2857142857142, 271.8, 'gini = 0.0\\nsamples = 9\\nvalue = [0, 9]'),\n",
       " Text(518.1428571428571, 271.8, 'X[2] <= 29.0\\ngini = 0.375\\nsamples = 4\\nvalue = [1, 3]'),\n",
       " Text(498.21428571428567, 229.98461538461538, 'gini = 0.0\\nsamples = 1\\nvalue = [1, 0]'),\n",
       " Text(538.0714285714286, 229.98461538461538, 'gini = 0.0\\nsamples = 3\\nvalue = [0, 3]'),\n",
       " Text(498.21428571428567, 355.4307692307692, 'gini = 0.0\\nsamples = 1\\nvalue = [1, 0]')]"
      ]
     },
     "execution_count": 30,
     "metadata": {},
     "output_type": "execute_result"
    },
    {
     "data": {
      "image/png": "[encoded data removed]",
      "text/plain": [
       "<Figure size 720x720 with 1 Axes>"
      ]
     },
     "metadata": {
      "needs_background": "light"
     },
     "output_type": "display_data"
    }
   ],
   "source": [
    "plt.figure(figsize=(10,10))\n",
    "plot_tree(model)"
   ]
  },
  {
   "cell_type": "code",
   "execution_count": 31,
   "id": "770817e3",
   "metadata": {
    "execution": {
     "iopub.execute_input": "2022-01-17T09:05:54.624172Z",
     "iopub.status.busy": "2022-01-17T09:05:54.623282Z",
     "iopub.status.idle": "2022-01-17T09:05:54.942332Z",
     "shell.execute_reply": "2022-01-17T09:05:54.942781Z"
    },
    "id": "nXVE5Rl0IhVL",
    "outputId": "78a89a79-7030-4835-a637-3b68ce5c7b52",
    "papermill": {
     "duration": 0.351379,
     "end_time": "2022-01-17T09:05:54.942962",
     "exception": false,
     "start_time": "2022-01-17T09:05:54.591583",
     "status": "completed"
    },
    "tags": []
   },
   "outputs": [
    {
     "data": {
      "text/plain": [
       "GridSearchCV(estimator=DecisionTreeClassifier(),\n",
       "             param_grid={'criterion': ['gini', 'entropy'],\n",
       "                         'max_depth': [1, 2, 3, 4, 5, 6, 7, 8]})"
      ]
     },
     "execution_count": 31,
     "metadata": {},
     "output_type": "execute_result"
    }
   ],
   "source": [
    "param={'criterion':['gini','entropy'],'max_depth':[1,2,3,4,5,6,7,8]}\n",
    "model_cv=GridSearchCV(model,param_grid=param)\n",
    "model_cv.fit(X_train,y_train)"
   ]
  },
  {
   "cell_type": "code",
   "execution_count": 32,
   "id": "9d3566c3",
   "metadata": {
    "execution": {
     "iopub.execute_input": "2022-01-17T09:05:55.006259Z",
     "iopub.status.busy": "2022-01-17T09:05:55.005365Z",
     "iopub.status.idle": "2022-01-17T09:05:55.010069Z",
     "shell.execute_reply": "2022-01-17T09:05:55.010466Z"
    },
    "id": "genBT3ilImUz",
    "outputId": "d26fba10-8f0e-40bd-a91d-5fa0d750d68f",
    "papermill": {
     "duration": 0.037961,
     "end_time": "2022-01-17T09:05:55.010624",
     "exception": false,
     "start_time": "2022-01-17T09:05:54.972663",
     "status": "completed"
    },
    "tags": []
   },
   "outputs": [
    {
     "data": {
      "text/plain": [
       "0.8383333333333335"
      ]
     },
     "execution_count": 32,
     "metadata": {},
     "output_type": "execute_result"
    }
   ],
   "source": [
    "model_cv.best_score_"
   ]
  },
  {
   "cell_type": "code",
   "execution_count": 33,
   "id": "24d6d284",
   "metadata": {
    "execution": {
     "iopub.execute_input": "2022-01-17T09:05:55.073799Z",
     "iopub.status.busy": "2022-01-17T09:05:55.072925Z",
     "iopub.status.idle": "2022-01-17T09:05:55.078464Z",
     "shell.execute_reply": "2022-01-17T09:05:55.079185Z"
    },
    "id": "KJWk3N9JIrPe",
    "outputId": "3c56c8dd-0d61-4871-a68c-6a046f60bfba",
    "papermill": {
     "duration": 0.038814,
     "end_time": "2022-01-17T09:05:55.079396",
     "exception": false,
     "start_time": "2022-01-17T09:05:55.040582",
     "status": "completed"
    },
    "tags": []
   },
   "outputs": [
    {
     "name": "stdout",
     "output_type": "stream",
     "text": [
      "DecisionTreeClassifier(max_depth=1)\n"
     ]
    }
   ],
   "source": [
    "dt_model=model_cv.best_estimator_\n",
    "print(dt_model)"
   ]
  }
 ],
 "metadata": {
  "kernelspec": {
   "display_name": "Python 3",
   "language": "python",
   "name": "python3"
  },
  "language_info": {
   "codemirror_mode": {
    "name": "ipython",
    "version": 3
   },
   "file_extension": ".py",
   "mimetype": "text/x-python",
   "name": "python",
   "nbconvert_exporter": "python",
   "pygments_lexer": "ipython3",
   "version": "3.7.12"
  },
  "papermill": {
   "default_parameters": {},
   "duration": 17.443421,
   "end_time": "2022-01-17T09:05:55.821246",
   "environment_variables": {},
   "exception": null,
   "input_path": "__notebook__.ipynb",
   "output_path": "__notebook__.ipynb",
   "parameters": {},
   "start_time": "2022-01-17T09:05:38.377825",
   "version": "2.3.3"
  }
 },
 "nbformat": 4,
 "nbformat_minor": 5
}
